{
  "nbformat": 4,
  "nbformat_minor": 0,
  "metadata": {
    "colab": {
      "provenance": [],
      "gpuType": "T4",
      "collapsed_sections": [
        "GfWRTlQtIxjE",
        "oiwe4c6TI7FE",
        "426Y-ymRJHB1",
        "sBkCRY7zJLXL",
        "99q2DB6RH95j"
      ]
    },
    "kernelspec": {
      "name": "python3",
      "display_name": "Python 3"
    },
    "language_info": {
      "name": "python"
    },
    "accelerator": "GPU"
  },
  "cells": [
    {
      "cell_type": "markdown",
      "source": [
        "# Fashion MNIST Autoencoder"
      ],
      "metadata": {
        "id": "XlbJYwAX4xTQ"
      }
    },
    {
      "cell_type": "markdown",
      "source": [
        "\n",
        "This notebook demonstrates the implementation of an autoencoder using the Fashion MNIST dataset.\n",
        "The autoencoder is a neural network that learns to encode input data into a smaller representation\n",
        "and then decodes it back to the original form. In this example, we add noise to the images and train\n",
        "the autoencoder to reconstruct the original images.\n"
      ],
      "metadata": {
        "id": "wnfhM7Ef4z25"
      }
    },
    {
      "cell_type": "markdown",
      "source": [
        "### import libarires"
      ],
      "metadata": {
        "id": "GfWRTlQtIxjE"
      }
    },
    {
      "cell_type": "code",
      "execution_count": 1,
      "metadata": {
        "id": "D00WU2rktDzu"
      },
      "outputs": [],
      "source": [
        "\n",
        "# Import necessary libraries\n",
        "import pandas as pd\n",
        "import matplotlib.pyplot as plt\n",
        "import keras\n",
        "from keras.models import Sequential\n",
        "from keras.layers import Dense, Flatten, Input\n",
        "from keras.datasets import fashion_mnist\n",
        "from keras.utils import to_categorical\n",
        "import numpy as np\n",
        "from sklearn.model_selection import train_test_split\n",
        "from sklearn.preprocessing import MinMaxScaler\n",
        "from keras.losses import SparseCategoricalCrossentropy\n",
        "from keras.optimizers import Adam\n",
        "from keras.metrics import Precision, Recall\n",
        "from tensorflow.keras.models import Model\n",
        "import tensorflow as tf\n"
      ]
    },
    {
      "cell_type": "markdown",
      "source": [
        "### Load the Fashion MNIST dataset"
      ],
      "metadata": {
        "id": "oiwe4c6TI7FE"
      }
    },
    {
      "cell_type": "code",
      "source": [
        "(X_train, y_train), (X_test, y_test) = fashion_mnist.load_data()"
      ],
      "metadata": {
        "id": "vfBrBcAAtfaK",
        "colab": {
          "base_uri": "https://localhost:8080/"
        },
        "outputId": "3f3ba640-2f50-4d69-8599-da1f287ca222"
      },
      "execution_count": 2,
      "outputs": [
        {
          "output_type": "stream",
          "name": "stdout",
          "text": [
            "Downloading data from https://storage.googleapis.com/tensorflow/tf-keras-datasets/train-labels-idx1-ubyte.gz\n",
            "\u001b[1m29515/29515\u001b[0m \u001b[32m━━━━━━━━━━━━━━━━━━━━\u001b[0m\u001b[37m\u001b[0m \u001b[1m0s\u001b[0m 0us/step\n",
            "Downloading data from https://storage.googleapis.com/tensorflow/tf-keras-datasets/train-images-idx3-ubyte.gz\n",
            "\u001b[1m26421880/26421880\u001b[0m \u001b[32m━━━━━━━━━━━━━━━━━━━━\u001b[0m\u001b[37m\u001b[0m \u001b[1m0s\u001b[0m 0us/step\n",
            "Downloading data from https://storage.googleapis.com/tensorflow/tf-keras-datasets/t10k-labels-idx1-ubyte.gz\n",
            "\u001b[1m5148/5148\u001b[0m \u001b[32m━━━━━━━━━━━━━━━━━━━━\u001b[0m\u001b[37m\u001b[0m \u001b[1m0s\u001b[0m 1us/step\n",
            "Downloading data from https://storage.googleapis.com/tensorflow/tf-keras-datasets/t10k-images-idx3-ubyte.gz\n",
            "\u001b[1m4422102/4422102\u001b[0m \u001b[32m━━━━━━━━━━━━━━━━━━━━\u001b[0m\u001b[37m\u001b[0m \u001b[1m0s\u001b[0m 0us/step\n"
          ]
        }
      ]
    },
    {
      "cell_type": "markdown",
      "source": [
        "# Bulit the model with auto encdoder"
      ],
      "metadata": {
        "id": "nEV1It8FNYX7"
      }
    },
    {
      "cell_type": "markdown",
      "source": [
        "### Flatten the images for MLP input"
      ],
      "metadata": {
        "id": "XgDOhL7i5AgT"
      }
    },
    {
      "cell_type": "code",
      "source": [
        "X_train_flatten = X_train.reshape(X_train.shape[0], -1)\n",
        "X_test_flatten = X_test.reshape(X_test.shape[0], -1)\n",
        "\n",
        "# Verify the shape of the flattened images\n",
        "print(\"X_train_flatten shape:\", X_train_flatten.shape)\n",
        "print(\"X_test_flatten shape:\", X_test_flatten.shape)\n",
        "\n",
        "# Normalize the pixel values to be between 0 and 1\n",
        "X_train_flatten1 = X_train_flatten.astype('float32') / 255.0\n",
        "X_test_flatten1 = X_test_flatten.astype('float32') / 255.0"
      ],
      "metadata": {
        "colab": {
          "base_uri": "https://localhost:8080/"
        },
        "id": "6pnobeJ4PXL4",
        "outputId": "a5085fa0-26fc-4e27-95ed-264e424339c6"
      },
      "execution_count": 3,
      "outputs": [
        {
          "output_type": "stream",
          "name": "stdout",
          "text": [
            "X_train_flatten shape: (60000, 784)\n",
            "X_test_flatten shape: (10000, 784)\n"
          ]
        }
      ]
    },
    {
      "cell_type": "markdown",
      "source": [
        "###  Create a Sequential model for the autoencoder\n"
      ],
      "metadata": {
        "id": "PIbVhrxV5LW-"
      }
    },
    {
      "cell_type": "code",
      "source": [
        "model_en = Sequential()\n",
        "model_en.add(Dense(512, input_dim=784, activation='relu'))  # Encoder layer 1\n",
        "model_en.add(Dense(256, activation='relu'))  # Encoder layer 2\n",
        "\n",
        "model_en.add(Dense(64, activation='relu'))  # Bottleneck (encoding space)\n",
        "model_en.add(Dense(256, activation='relu'))  # Decoder layer 1\n",
        "\n",
        "model_en.add(Dense(512, activation='relu'))  # Decoder layer 2\n",
        "model_en.add(Dense(784, activation='sigmoid'))  # Reconstructed output\n",
        "\n",
        "model_en.compile(loss='binary_crossentropy', optimizer='adam', metrics=['accuracy'])\n"
      ],
      "metadata": {
        "id": "wCx5F6RYNYI2",
        "colab": {
          "base_uri": "https://localhost:8080/"
        },
        "outputId": "5ad93d09-4f23-419f-cccc-5976de6c7461"
      },
      "execution_count": 4,
      "outputs": [
        {
          "output_type": "stream",
          "name": "stderr",
          "text": [
            "/usr/local/lib/python3.10/dist-packages/keras/src/layers/core/dense.py:87: UserWarning: Do not pass an `input_shape`/`input_dim` argument to a layer. When using Sequential models, prefer using an `Input(shape)` object as the first layer in the model instead.\n",
            "  super().__init__(activity_regularizer=activity_regularizer, **kwargs)\n"
          ]
        }
      ]
    },
    {
      "cell_type": "code",
      "source": [
        "import tensorflow as tf\n",
        "tf.keras.backend.clear_session()  # Clear any previous TensorFlow session\n"
      ],
      "metadata": {
        "id": "GYPeFzk8QhIL"
      },
      "execution_count": 5,
      "outputs": []
    },
    {
      "cell_type": "code",
      "source": [
        "history1 = model_en.fit(X_train_flatten1, X_train_flatten1,\n",
        "                        epochs=5, batch_size=128,\n",
        "                        validation_data=(X_test_flatten1, X_test_flatten1))"
      ],
      "metadata": {
        "colab": {
          "base_uri": "https://localhost:8080/"
        },
        "id": "s2rXO9_-N53U",
        "outputId": "b5c4070b-ea3a-4bb9-ba05-2e1ab2e1b458"
      },
      "execution_count": 6,
      "outputs": [
        {
          "output_type": "stream",
          "name": "stdout",
          "text": [
            "Epoch 1/5\n",
            "\u001b[1m469/469\u001b[0m \u001b[32m━━━━━━━━━━━━━━━━━━━━\u001b[0m\u001b[37m\u001b[0m \u001b[1m9s\u001b[0m 8ms/step - accuracy: 0.0102 - loss: 0.3774 - val_accuracy: 0.0147 - val_loss: 0.2953\n",
            "Epoch 2/5\n",
            "\u001b[1m469/469\u001b[0m \u001b[32m━━━━━━━━━━━━━━━━━━━━\u001b[0m\u001b[37m\u001b[0m \u001b[1m2s\u001b[0m 3ms/step - accuracy: 0.0172 - loss: 0.2901 - val_accuracy: 0.0273 - val_loss: 0.2855\n",
            "Epoch 3/5\n",
            "\u001b[1m469/469\u001b[0m \u001b[32m━━━━━━━━━━━━━━━━━━━━\u001b[0m\u001b[37m\u001b[0m \u001b[1m3s\u001b[0m 4ms/step - accuracy: 0.0219 - loss: 0.2815 - val_accuracy: 0.0278 - val_loss: 0.2802\n",
            "Epoch 4/5\n",
            "\u001b[1m469/469\u001b[0m \u001b[32m━━━━━━━━━━━━━━━━━━━━\u001b[0m\u001b[37m\u001b[0m \u001b[1m3s\u001b[0m 4ms/step - accuracy: 0.0278 - loss: 0.2773 - val_accuracy: 0.0297 - val_loss: 0.2776\n",
            "Epoch 5/5\n",
            "\u001b[1m469/469\u001b[0m \u001b[32m━━━━━━━━━━━━━━━━━━━━\u001b[0m\u001b[37m\u001b[0m \u001b[1m2s\u001b[0m 4ms/step - accuracy: 0.0318 - loss: 0.2741 - val_accuracy: 0.0313 - val_loss: 0.2755\n"
          ]
        }
      ]
    },
    {
      "cell_type": "markdown",
      "source": [
        "### Add noise to the images for a denoising autoencoder"
      ],
      "metadata": {
        "id": "GVE3klxuUPZX"
      }
    },
    {
      "cell_type": "code",
      "source": [
        "\n",
        "# Add noise to the images for a denoising autoencoder\n",
        "noise_factor = 0.2\n",
        "x_train_noisy = X_train_flatten1 + noise_factor * np.random.normal(loc=0.0, scale=1.0, size=X_train_flatten1.shape)\n",
        "x_test_noisy = X_test_flatten1 + noise_factor * np.random.normal(loc=0.0, scale=1.0, size=X_test_flatten1.shape)\n",
        "\n",
        "# Clip the noisy images to be between 0 and 1\n",
        "x_train_noisy = np.clip(x_train_noisy, 0., 1.)\n",
        "x_test_noisy = np.clip(x_test_noisy, 0., 1.)\n"
      ],
      "metadata": {
        "id": "adLfaBJESkUW"
      },
      "execution_count": 7,
      "outputs": []
    },
    {
      "cell_type": "markdown",
      "source": [
        "### Define the Autoencoder architecture for denoising\n"
      ],
      "metadata": {
        "id": "7IgCxAqM5uH0"
      }
    },
    {
      "cell_type": "code",
      "source": [
        "input_img = Input(shape=(x_train_noisy.shape[1],))\n",
        "\n",
        "# Add the encoder layers\n",
        "encoded = Dense(128, activation='relu')(input_img)\n",
        "encoded = Dense(64, activation='relu')(encoded)\n",
        "encoded = Dense(32, activation='relu')(encoded)\n",
        "\n",
        "# Add the bottleneck layer\n",
        "bottleneck = Dense(16, activation='relu')(encoded)\n",
        "\n",
        "# Add the decoder layers\n",
        "decoded = Dense(32, activation='relu')(bottleneck)\n",
        "decoded = Dense(64, activation='relu')(decoded)\n",
        "decoded = Dense(128, activation='relu')(decoded)\n",
        "decoded = Dense(X_train_flatten1.shape[1], activation='sigmoid')(decoded)\n",
        "\n",
        "# Create the autoencoder model\n",
        "autoencoder = Model(input_img, decoded)\n",
        "\n",
        "# Compile the autoencoder model\n",
        "autoencoder.compile(optimizer=Adam(), loss='binary_crossentropy')\n"
      ],
      "metadata": {
        "id": "H6EaDM6h5t4T"
      },
      "execution_count": 8,
      "outputs": []
    },
    {
      "cell_type": "markdown",
      "source": [
        "### Train the autoencoder model"
      ],
      "metadata": {
        "id": "P26fzJXw56Fw"
      }
    },
    {
      "cell_type": "code",
      "source": [
        "\n",
        "# Train the autoencoder model\n",
        "history = autoencoder.fit(x_train_noisy, X_train_flatten1,\n",
        "                          epochs=5, batch_size=256,\n",
        "                          shuffle=True,\n",
        "                          validation_data=(x_test_noisy, X_test_flatten1))\n"
      ],
      "metadata": {
        "id": "O0mP3CesW6Qh",
        "colab": {
          "base_uri": "https://localhost:8080/"
        },
        "outputId": "ba8ab868-3022-48de-80b4-2d4d8be9a52c"
      },
      "execution_count": 9,
      "outputs": [
        {
          "output_type": "stream",
          "name": "stdout",
          "text": [
            "Epoch 1/5\n",
            "\u001b[1m235/235\u001b[0m \u001b[32m━━━━━━━━━━━━━━━━━━━━\u001b[0m\u001b[37m\u001b[0m \u001b[1m11s\u001b[0m 19ms/step - loss: 0.5161 - val_loss: 0.3499\n",
            "Epoch 2/5\n",
            "\u001b[1m235/235\u001b[0m \u001b[32m━━━━━━━━━━━━━━━━━━━━\u001b[0m\u001b[37m\u001b[0m \u001b[1m1s\u001b[0m 3ms/step - loss: 0.3396 - val_loss: 0.3235\n",
            "Epoch 3/5\n",
            "\u001b[1m235/235\u001b[0m \u001b[32m━━━━━━━━━━━━━━━━━━━━\u001b[0m\u001b[37m\u001b[0m \u001b[1m1s\u001b[0m 3ms/step - loss: 0.3186 - val_loss: 0.3142\n",
            "Epoch 4/5\n",
            "\u001b[1m235/235\u001b[0m \u001b[32m━━━━━━━━━━━━━━━━━━━━\u001b[0m\u001b[37m\u001b[0m \u001b[1m1s\u001b[0m 4ms/step - loss: 0.3114 - val_loss: 0.3103\n",
            "Epoch 5/5\n",
            "\u001b[1m235/235\u001b[0m \u001b[32m━━━━━━━━━━━━━━━━━━━━\u001b[0m\u001b[37m\u001b[0m \u001b[1m2s\u001b[0m 5ms/step - loss: 0.3074 - val_loss: 0.3078\n"
          ]
        }
      ]
    },
    {
      "cell_type": "markdown",
      "source": [
        "### Evaluate the model on test data"
      ],
      "metadata": {
        "id": "8Q5uzFxN59le"
      }
    },
    {
      "cell_type": "code",
      "source": [
        "loss = autoencoder.evaluate(x_test_noisy, X_test_flatten1)\n",
        "print(f'Test loss: {loss}')\n"
      ],
      "metadata": {
        "colab": {
          "base_uri": "https://localhost:8080/"
        },
        "id": "g6fRAklw5-lQ",
        "outputId": "473c5615-5854-441b-f93d-1bf8aca4236b"
      },
      "execution_count": 10,
      "outputs": [
        {
          "output_type": "stream",
          "name": "stdout",
          "text": [
            "\u001b[1m313/313\u001b[0m \u001b[32m━━━━━━━━━━━━━━━━━━━━\u001b[0m\u001b[37m\u001b[0m \u001b[1m1s\u001b[0m 2ms/step - loss: 0.3076\n",
            "Test loss: 0.30782684683799744\n"
          ]
        }
      ]
    },
    {
      "cell_type": "code",
      "source": [
        "\n",
        "# Function to display original, noisy, and reconstructed images\n",
        "def display_reconstruction(original, noisy, reconstructed, num_images=10):\n",
        "    plt.figure(figsize=(20, 6))\n",
        "    for i in range(num_images):\n",
        "        # Display original images\n",
        "        ax = plt.subplot(3, num_images, i + 1)\n",
        "        plt.imshow(original[i].reshape(28, 28), cmap='gray')\n",
        "        ax.axis('off')\n",
        "        if i == 0:\n",
        "            ax.set_title(\"Original\")\n",
        "\n",
        "        # Display noisy images\n",
        "        ax = plt.subplot(3, num_images, i + 1 + num_images)\n",
        "        plt.imshow(noisy[i].reshape(28, 28), cmap='gray')\n",
        "        ax.axis('off')\n",
        "        if i == 0:\n",
        "            ax.set_title(\"Noisy\")\n",
        "\n",
        "        # Display reconstructed images\n",
        "        ax = plt.subplot(3, num_images, i + 1 + 2 * num_images)\n",
        "        plt.imshow(reconstructed[i].reshape(28, 28), cmap='gray')\n",
        "        ax.axis('off')\n",
        "        if i == 0:\n",
        "            ax.set_title(\"Denoised\")\n",
        "    plt.show()\n"
      ],
      "metadata": {
        "id": "mm3-MYO66Bhz"
      },
      "execution_count": 11,
      "outputs": []
    },
    {
      "cell_type": "code",
      "source": [
        "\n",
        "# Intermediate model to get encoded representations\n",
        "encoder = Model(input_img, bottleneck)\n",
        "\n",
        "# Get reconstructions and encoded images\n",
        "reconstructed_imgs = autoencoder.predict(x_test_noisy)\n",
        "\n",
        "# Display some original, noisy, and reconstructed images\n",
        "display_reconstruction(X_test, x_test_noisy, reconstructed_imgs)\n"
      ],
      "metadata": {
        "colab": {
          "base_uri": "https://localhost:8080/",
          "height": 469
        },
        "id": "UQxaUhLP6E2X",
        "outputId": "b4fdd29f-7fee-4c2d-fa03-acfc740defe0"
      },
      "execution_count": 12,
      "outputs": [
        {
          "output_type": "stream",
          "name": "stdout",
          "text": [
            "\u001b[1m313/313\u001b[0m \u001b[32m━━━━━━━━━━━━━━━━━━━━\u001b[0m\u001b[37m\u001b[0m \u001b[1m1s\u001b[0m 2ms/step\n"
          ]
        },
        {
          "output_type": "display_data",
          "data": {
            "text/plain": [
              "<Figure size 2000x600 with 30 Axes>"
            ],
            "image/png": "[encoded data removed]"
          },
          "metadata": {}
        }
      ]
    }
  ]
}